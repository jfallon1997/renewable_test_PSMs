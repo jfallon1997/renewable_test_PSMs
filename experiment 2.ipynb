{
 "cells": [
  {
   "cell_type": "markdown",
   "id": "large-banks",
   "metadata": {},
   "source": [
    "# Small consumer 2-zone test\n",
    "\n",
    "Generators use 1980-2017 using 1-system planned capacities"
   ]
  },
  {
   "cell_type": "code",
   "execution_count": null,
   "id": "greenhouse-renewal",
   "metadata": {},
   "outputs": [],
   "source": [
    "# Suppress minor warnings\n",
    "import warnings\n",
    "warnings.filterwarnings('ignore')"
   ]
  },
  {
   "cell_type": "code",
   "execution_count": null,
   "id": "wound-prediction",
   "metadata": {},
   "outputs": [],
   "source": [
    "import calliope\n",
    "import models\n",
    "import pandas as pd\n",
    "import numpy as np\n",
    "import matplotlib.pyplot as plt"
   ]
  },
  {
   "cell_type": "markdown",
   "id": "norwegian-journal",
   "metadata": {},
   "source": [
    "### Read in National grid planning output (full 1980-2017)\n",
    "\n",
    "From timeseries calculate mean and standard deviation of demand.\n",
    "Change back from negative convention (calliope) to positive demand convention (readable)"
   ]
  },
  {
   "cell_type": "code",
   "execution_count": null,
   "id": "impossible-sculpture",
   "metadata": {},
   "outputs": [],
   "source": [
    "# read csv\n",
    "df = pd.read_csv('outputs_plan_national-grid-full/inputs_resource.csv',\n",
    "                 usecols=['timesteps', 'resource', 'techs'], index_col='timesteps')\n",
    "# split demand / wind /solar into 3 separate columns\n",
    "national_demand_index = pd.to_datetime(df[df['techs'] == 'demand_power'].index)\n",
    "national_demand = pd.DataFrame(dict(), index=national_demand_index)\n",
    "national_demand['demand'] = - df[df['techs'] == 'demand_power']['resource']\n",
    "national_demand['wind'] = df[df['techs'] == 'wind']['resource']\n",
    "national_demand['solar'] = df[df['techs'] == 'solar']['resource']\n",
    "del df"
   ]
  },
  {
   "cell_type": "code",
   "execution_count": null,
   "id": "numerical-excitement",
   "metadata": {},
   "outputs": [],
   "source": [
    "national_demand_stats = mean, std = [stat(national_demand.demand) for stat in [np.mean, np.std]]"
   ]
  },
  {
   "cell_type": "markdown",
   "id": "killing-championship",
   "metadata": {},
   "source": [
    "### Generate a random timeseries (simulated zone 2 demand)\n",
    "form with similar overall mean/stddev to UK wide demand (scaled to 1%), ensure no negative values"
   ]
  },
  {
   "cell_type": "code",
   "execution_count": null,
   "id": "psychological-scheme",
   "metadata": {},
   "outputs": [],
   "source": [
    "# ensure always using the same seed (which we obtained one-off using RNG)\n",
    "np.random.seed(285183912)\n",
    "\n",
    "# normal distribution parameters = 1% National Grid mean/std dev.\n",
    "normal_dist = [stat*0.01 for stat in national_demand_stats]\n",
    "\n",
    "# Sample from normal distribution\n",
    "demand_region2 = np.random.normal(*normal_dist, len(national_demand))\n",
    "\n",
    "# Force positives (very minute chance of this occuring...)\n",
    "demand_region2[demand_region2 < 0] = 0"
   ]
  },
  {
   "cell_type": "code",
   "execution_count": null,
   "id": "confirmed-retention",
   "metadata": {},
   "outputs": [],
   "source": [
    "demand_region2"
   ]
  },
  {
   "cell_type": "markdown",
   "id": "hearing-possession",
   "metadata": {},
   "source": [
    "### Load secondary zone demand into a DataFrame\n",
    "Allows easy loading into ts_data"
   ]
  },
  {
   "cell_type": "code",
   "execution_count": null,
   "id": "interested-syndication",
   "metadata": {},
   "outputs": [],
   "source": [
    "df_region2 = pd.DataFrame({'demand_region2': demand_region2},\n",
    "                          index=pd.to_datetime(national_demand.index))"
   ]
  },
  {
   "cell_type": "markdown",
   "id": "wooden-beginning",
   "metadata": {},
   "source": [
    "# `operational` Calliope 2-zone model (with infinite diesel cap)\n",
    "\n",
    "Note: can shrink operational range to subset, eg. 2017 year only"
   ]
  },
  {
   "cell_type": "code",
   "execution_count": null,
   "id": "plain-attribute",
   "metadata": {},
   "outputs": [],
   "source": [
    "date_start, date_end = '1980', '2017'"
   ]
  },
  {
   "cell_type": "code",
   "execution_count": null,
   "id": "falling-photograph",
   "metadata": {},
   "outputs": [],
   "source": [
    "# Import timeseries data demand / wind (as in 1_region)\n",
    "ts_data = models.load_time_series_data('2_region', additional_data=df_region2)\n",
    "\n",
    "# Crop to date range\n",
    "ts_data = ts_data.loc[date_start:date_end]\n",
    "\n",
    "display(ts_data.head(6))"
   ]
  },
  {
   "cell_type": "code",
   "execution_count": null,
   "id": "minor-order",
   "metadata": {},
   "outputs": [],
   "source": [
    "# Read in generation capacities\n",
    "generation_capacities_planned = pd.read_csv('outputs_plan_national-grid-full/results_energy_cap.csv')\n",
    "\n",
    "# Rename techs\n",
    "generation_capacities = dict()\n",
    "for tech, cap in zip(generation_capacities_planned['techs'],\n",
    "                     generation_capacities_planned['energy_cap']):\n",
    "    if tech not in ['unmet', 'demand_power']:\n",
    "        key = f'cap_{tech}_region1'\n",
    "        generation_capacities[key] = cap\n",
    "\n",
    "# Insert diesel generators, transmission capacity = max possible region2 demand\n",
    "generation_capacities['cap_generators_region2'] = max(ts_data['demand_region2'])\n",
    "generation_capacities['cap_transmission_region1_region2'] = max(ts_data['demand_region2'])\n",
    "\n",
    "# Display\n",
    "display(generation_capacities)"
   ]
  },
  {
   "cell_type": "code",
   "execution_count": null,
   "id": "uniform-pillow",
   "metadata": {},
   "outputs": [],
   "source": [
    "# Create the model with fixed capacities\n",
    "model = models.TwoRegionModel(ts_data, 'operate', fixed_caps=generation_capacities)\n",
    "display(model.preview('inputs.resource'))"
   ]
  },
  {
   "cell_type": "code",
   "execution_count": null,
   "id": "southwest-assets",
   "metadata": {},
   "outputs": [],
   "source": [
    "model.run()\n",
    "model.get_summary_outputs()"
   ]
  },
  {
   "cell_type": "code",
   "execution_count": null,
   "id": "agricultural-pipeline",
   "metadata": {},
   "outputs": [],
   "source": [
    "# Export all model outputs to CSV (creates directory called 'outputs_operate')\n",
    "output_folder = 'outputs_operational_two-zone_exp-2'\n",
    "models.rm_folder(output_folder)\n",
    "model.to_csv(output_folder)"
   ]
  },
  {
   "cell_type": "code",
   "execution_count": null,
   "id": "ranging-david",
   "metadata": {},
   "outputs": [],
   "source": [
    "# Generate HTML plots\n",
    "for var in ['power', 'cost_var', 'resource']:\n",
    "    plot_html = model.plot.timeseries(array=var, html_only=True)\n",
    "    models.save_html(plot_html, f'plots/operate_2_{var}.html', f'{var} plot')"
   ]
  },
  {
   "cell_type": "code",
   "execution_count": null,
   "id": "perceived-medicare",
   "metadata": {},
   "outputs": [],
   "source": [
    "model.preview('results.systemwide_capacity_factor', loc='carriers', time_idx=False,\n",
    "              index=model.results.systemwide_capacity_factor.techs.values)"
   ]
  }
 ],
 "metadata": {
  "language_info": {
   "name": "python",
   "pygments_lexer": "ipython3"
  }
 },
 "nbformat": 4,
 "nbformat_minor": 5
}
