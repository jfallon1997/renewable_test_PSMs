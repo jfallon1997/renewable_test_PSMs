{
 "cells": [
  {
   "cell_type": "markdown",
   "id": "continued-lindsay",
   "metadata": {},
   "source": [
    "# Small consumer 2-zone test\n",
    "\n",
    "Using generated price timeseres, assume that national grid system is beyond consumer's control.\n",
    "\n",
    "What we then need to do is to introduce a second zone (or “bus”) representing consumer’s assets\n",
    "\n",
    "1. Establish a second “zone” with a single connector between it and the first zone.\n",
    "2. The second zone should contain consumer’s:\n",
    "   a. demand for power ... using `outputs_plan_national-grid/???.csv`, rescale National Grid mean & std. to 1%, and use to generate a random timeseries of sorm form\n",
    "   b. diesel generators ... (for now) set the *capacity* of these generators to be effectively infinite, but the consumption cost to be *very high* (say 2-3 times that of the peaking plant in the national grid zone but not as high as unmet demand).  \n",
    "3. The connector between the “zones” should be:\n",
    "   a. Effectively infinite in capacity when taking power from the national grid zone to the consumer zone\n",
    "   b. Zero cost per unit of power transferred\n",
    "   c. Unidirectional (only takes power from Nat Grid to consumer, not vice versa). see https://calliope.readthedocs.io/en/stable/user/advanced_constraints.html#one-way-transmission-links\n",
    "\n",
    "Big picture: larger zone (National Grid) sets its own prices based on national demand/wind etc. The smaller zone is always able to meet it’s own internal demand if it chooses to (diesel capacity is very large) but would usually *prefer* to take power from national grid rather than use it’s own diesel generators. No power export from consumer to grid.\n",
    "\n",
    "Further work:\n",
    "\n",
    "* Shrink national grid generation capacities (introduce shortages), observe impact on consumer zone.\n",
    "* Look at swapping diesel generators to a *storage* generator(s)."
   ]
  },
  {
   "cell_type": "code",
   "execution_count": null,
   "id": "biological-airplane",
   "metadata": {},
   "outputs": [],
   "source": [
    "# Suppress minor warnings\n",
    "import warnings\n",
    "warnings.filterwarnings('ignore')"
   ]
  },
  {
   "cell_type": "code",
   "execution_count": null,
   "id": "bibliographic-oxide",
   "metadata": {},
   "outputs": [],
   "source": [
    "import calliope\n",
    "import models\n",
    "import pandas as pd\n",
    "import numpy as np\n",
    "import matplotlib.pyplot as plt"
   ]
  },
  {
   "cell_type": "markdown",
   "id": "hungarian-surrey",
   "metadata": {},
   "source": [
    "### Read in National grid planning output (full 1980-2017)\n",
    "\n",
    "From timeseries calculate mean and standard deviation of demand.\n",
    "Change back from negative convention (calliope) to positive demand convention (readable)"
   ]
  },
  {
   "cell_type": "code",
   "execution_count": null,
   "id": "exact-usage",
   "metadata": {},
   "outputs": [],
   "source": [
    "# read csv\n",
    "df = pd.read_csv('outputs_plan_national-grid/inputs_resource.csv',\n",
    "                 usecols=['timesteps', 'resource', 'techs'], index_col='timesteps')\n",
    "# split demand / wind /solar into 3 separate columns\n",
    "national_demand_index = pd.to_datetime(df[df['techs'] == 'demand_power'].index)\n",
    "national_demand = pd.DataFrame(dict(), index=national_demand_index)\n",
    "national_demand['demand'] = - df[df['techs'] == 'demand_power']['resource']\n",
    "national_demand['wind'] = df[df['techs'] == 'wind']['resource']\n",
    "national_demand['solar'] = df[df['techs'] == 'solar']['resource']\n",
    "del df"
   ]
  },
  {
   "cell_type": "code",
   "execution_count": null,
   "id": "aerial-democracy",
   "metadata": {},
   "outputs": [],
   "source": [
    "national_demand_stats = mean, std = [stat(national_demand.demand) for stat in [np.mean, np.std]]"
   ]
  },
  {
   "cell_type": "markdown",
   "id": "standard-universal",
   "metadata": {},
   "source": [
    "### Generate a random timeseries \n",
    "form with similar overall mean/stddev to UK wide demand (scaled to 1%), ensure no negative values"
   ]
  },
  {
   "cell_type": "code",
   "execution_count": null,
   "id": "steady-bryan",
   "metadata": {},
   "outputs": [],
   "source": [
    "# ensure always using the same seed (which we obtained one-off using RNG)\n",
    "np.random.seed(285183912)\n",
    "\n",
    "# normal distribution parameters = 1% National Grid mean/std dev.\n",
    "normal_dist = [stat*0.01 for stat in national_demand_stats]\n",
    "\n",
    "# Sample from normal distribution\n",
    "demand_region2 = np.random.normal(*normal_dist, len(national_demand))\n",
    "\n",
    "# Force positives (very minute chance of this occuring...)\n",
    "demand_region2[demand_region2 < 0] = 0"
   ]
  },
  {
   "cell_type": "code",
   "execution_count": null,
   "id": "pursuant-intent",
   "metadata": {},
   "outputs": [],
   "source": [
    "demand_region2"
   ]
  },
  {
   "cell_type": "markdown",
   "id": "lonely-complement",
   "metadata": {},
   "source": [
    "### Load secondary zone demand into a DataFrame\n",
    "Allows easy loading into ts_data"
   ]
  },
  {
   "cell_type": "code",
   "execution_count": null,
   "id": "solar-headset",
   "metadata": {},
   "outputs": [],
   "source": [
    "df_region2 = pd.DataFrame({'demand_region2': demand_region2},\n",
    "                          index=pd.to_datetime(national_demand.index))"
   ]
  },
  {
   "cell_type": "markdown",
   "id": "veterinary-candy",
   "metadata": {},
   "source": [
    "# `operational` Calliope 2-zone model (with infinite diesel cap)\n",
    "\n",
    "Note: can shrink operational range to subset, eg. 2017 year only"
   ]
  },
  {
   "cell_type": "code",
   "execution_count": null,
   "id": "exceptional-photograph",
   "metadata": {},
   "outputs": [],
   "source": [
    "date_start, date_end = '1980', '2017'"
   ]
  },
  {
   "cell_type": "code",
   "execution_count": null,
   "id": "local-train",
   "metadata": {},
   "outputs": [],
   "source": [
    "# Import timeseries data demand / wind (as in 1_region)\n",
    "ts_data = models.load_time_series_data('2_region', additional_data=df_region2)\n",
    "\n",
    "# Crop to date range\n",
    "ts_data = ts_data.loc[date_start:date_end]\n",
    "\n",
    "display(ts_data.head(6))"
   ]
  },
  {
   "cell_type": "code",
   "execution_count": null,
   "id": "nuclear-jamaica",
   "metadata": {},
   "outputs": [],
   "source": [
    "# Read in generation capacities\n",
    "generation_capacities_planned = pd.read_csv('outputs_plan_national-grid/results_energy_cap.csv')\n",
    "\n",
    "# Rename techs\n",
    "generation_capacities = dict()\n",
    "for tech, cap in zip(generation_capacities_planned['techs'],\n",
    "                     generation_capacities_planned['energy_cap']):\n",
    "    if tech not in ['unmet', 'demand_power']:\n",
    "        key = f'cap_{tech}_region1'\n",
    "        generation_capacities[key] = cap\n",
    "\n",
    "# Insert diesel generators, transmission capacity = max possible region2 demand\n",
    "generation_capacities['cap_generators_region2'] = max(ts_data['demand_region2'])\n",
    "generation_capacities['cap_transmission_region1_region2'] = max(ts_data['demand_region2'])\n",
    "\n",
    "\n",
    "# Display\n",
    "display(generation_capacities)"
   ]
  },
  {
   "cell_type": "code",
   "execution_count": null,
   "id": "cutting-congo",
   "metadata": {},
   "outputs": [],
   "source": [
    "# Create the model with fixed capacities\n",
    "model = models.TwoRegionModel(ts_data, 'operate', fixed_caps=generation_capacities)\n",
    "display(model.preview('inputs.resource'))"
   ]
  },
  {
   "cell_type": "code",
   "execution_count": null,
   "id": "published-baltimore",
   "metadata": {},
   "outputs": [],
   "source": [
    "model.run()\n",
    "model.get_summary_outputs()"
   ]
  },
  {
   "cell_type": "code",
   "execution_count": null,
   "id": "circular-morgan",
   "metadata": {},
   "outputs": [],
   "source": [
    "def cap_mean_plot(model, subtitle: str=None, fname: str=None):\n",
    "    # Extract mean capacity factors from model\n",
    "    CF = dict(zip(model.results.capacity_factor.loc_tech_carriers_prod.values,\n",
    "                  np.mean(model.results.capacity_factor.values, axis=1)))\n",
    "\n",
    "    # setup figure axs and title\n",
    "    fig, axs = plt.subplots(3, 3, figsize=(12,9))\n",
    "    title = 'Capacity Factor Means'\n",
    "    if subtitle:\n",
    "        title += '\\n' + subtitle\n",
    "    fig.suptitle(title)\n",
    "    \n",
    "    # pie chart for each tech\n",
    "    axs_idx = 0\n",
    "    for tech, cap in CF.items():\n",
    "        axs_pos = (axs_idx%3, axs_idx//3)\n",
    "        label = tech[:-7].replace('::','\\n').replace('transmission_', 'transmission\\n').replace(':region1','')\n",
    "        label += f'\\n{cap:.3f}'\n",
    "        axs[axs_pos].pie([cap, 1-cap], labels=[label,None])\n",
    "        axs_idx += 1\n",
    "\n",
    "    # plot legend\n",
    "    fig.subplots_adjust(top=0.95, bottom=0.05, right=0.95, left=0.05, hspace=0.01, wspace=0.15)\n",
    "    axs[-1, -1].pie([0,0], labels=[r'$\\mu$', r'1-$\\mu$'])\n",
    "    plt.legend()\n",
    "\n",
    "    # save plot\n",
    "    if fname:\n",
    "        plt.savefig('plots/'+fname, dpi=300)\n",
    "\n",
    "cap_mean_plot(model)"
   ]
  },
  {
   "cell_type": "code",
   "execution_count": null,
   "id": "loaded-franchise",
   "metadata": {},
   "outputs": [],
   "source": [
    "# Export all model outputs to CSV (creates directory called 'outputs_operate')\n",
    "output_folder = 'outputs_operational_two-zone'\n",
    "models.rm_folder(output_folder)\n",
    "model.to_csv(output_folder)"
   ]
  },
  {
   "cell_type": "code",
   "execution_count": null,
   "id": "specific-extraction",
   "metadata": {},
   "outputs": [],
   "source": [
    "# Generate HTML plots\n",
    "for var in ['power', 'cost_var', 'resource']:\n",
    "    plot_html = model.plot.timeseries(array=var, html_only=True)\n",
    "    models.save_html(plot_html, f'plots/operate_2_{var}.html', f'{var} plot')"
   ]
  },
  {
   "cell_type": "code",
   "execution_count": null,
   "id": "developmental-seller",
   "metadata": {},
   "outputs": [],
   "source": [
    "model.preview('results.systemwide_capacity_factor', loc='carriers', time_idx=False,\n",
    "              index=model.results.systemwide_capacity_factor.techs.values)"
   ]
  },
  {
   "cell_type": "markdown",
   "id": "disciplinary-swimming",
   "metadata": {},
   "source": [
    "### Adjust Generators Operating cost\n",
    "\n",
    "Trial different operating costs, and get the capacity factor"
   ]
  },
  {
   "cell_type": "code",
   "execution_count": null,
   "id": "sophisticated-township",
   "metadata": {},
   "outputs": [],
   "source": [
    "# Create the model with fixed capacities\n",
    "# change the generator operating cost\n",
    "mod = dict()\n",
    "\n",
    "# sub baseload cost\n",
    "print('generators om_con < baseload om_con')\n",
    "mod['sb'] = models.TwoRegionModel(ts_data, 'operate', fixed_caps=generation_capacities, extra_override='generator_cost_sb')\n",
    "# sub peaking cost\n",
    "print('generators om_con < peaking om_con')\n",
    "mod['sp'] = models.TwoRegionModel(ts_data, 'operate', fixed_caps=generation_capacities, extra_override='generator_cost_sp')\n",
    "# sub unmet cost\n",
    "print('generators om_con < unmet om_con')\n",
    "mod['su'] = models.TwoRegionModel(ts_data, 'operate', fixed_caps=generation_capacities, extra_override='generator_cost_su')\n",
    "\n",
    "for name, model in mod.items():\n",
    "    print(f'running {name} model')\n",
    "    model.run()"
   ]
  },
  {
   "cell_type": "code",
   "execution_count": null,
   "id": "tested-agenda",
   "metadata": {},
   "outputs": [],
   "source": [
    "# Print out capacity factors\n",
    "model_example = list(mod.values())[0]\n",
    "columns = [s.split('::')[1] for s in model_example.results.capacity_factor.loc_tech_carriers_prod.values]\n",
    "cap_factors = pd.DataFrame(columns=columns)\n",
    "\n",
    "for name, model in mod.items():\n",
    "    cap_factors = cap_factors.append(dict(zip(columns, np.mean(model.results.capacity_factor.values, axis=0))), ignore_index=True)\n",
    "\n",
    "print('Capacity factors under each scenario:')\n",
    "cap_factors.index = list(mod.keys())\n",
    "display(cap_factors)"
   ]
  },
  {
   "cell_type": "code",
   "execution_count": null,
   "id": "actual-tribe",
   "metadata": {},
   "outputs": [],
   "source": [
    "# calculate prices ???"
   ]
  },
  {
   "cell_type": "code",
   "execution_count": null,
   "id": "thrown-omaha",
   "metadata": {},
   "outputs": [],
   "source": [
    "# memory clearing\n",
    "del mod"
   ]
  },
  {
   "cell_type": "markdown",
   "id": "perceived-month",
   "metadata": {},
   "source": [
    "### Induce National Grid Shortages\n",
    "\n",
    "With the original `om_con=0.1` for generators, trial a range of reduced capacity national grid operation"
   ]
  },
  {
   "cell_type": "code",
   "execution_count": null,
   "id": "stainless-recommendation",
   "metadata": {},
   "outputs": [],
   "source": [
    "# Create the model with fixed capacities\n",
    "# change the baseload and peaking capacities\n",
    "mod = dict()\n",
    "\n",
    "# shortcut for baseload and peaking capacities\n",
    "baseload = generation_capacities['cap_baseload_region1']\n",
    "peaking = generation_capacities['cap_peaking_region1']\n",
    "\n",
    "# reduced ALL region1 capacities by X%\n",
    "for reduction in range(0, 31, 5):\n",
    "   reduction_percent = 1 - reduction / 100\n",
    "   caps = {tech: val if 'region2' in tech else val*reduction_percent\n",
    "           for tech, val in generation_capacities.items()}\n",
    "   mod[reduction] = models.TwoRegionModel(ts_data, 'operate', fixed_caps=caps)\n",
    "\n",
    "for name, model in mod.items():\n",
    "    print(f'running {name} model')\n",
    "    model.run()"
   ]
  },
  {
   "cell_type": "code",
   "execution_count": null,
   "id": "sharp-universal",
   "metadata": {},
   "outputs": [],
   "source": [
    "# Print out capacity factors\n",
    "model_example = list(mod.values())[0]\n",
    "columns = [s.split('::')[1] for s in model_example.results.capacity_factor.loc_tech_carriers_prod.values]\n",
    "cap_factors = pd.DataFrame(columns=columns)\n",
    "\n",
    "for name, model in mod.items():\n",
    "    cap_factors = cap_factors.append(dict(zip(columns, np.mean(model.results.capacity_factor.values, axis=0))), ignore_index=True)\n",
    "\n",
    "print('Capacity factors under each scenario:')\n",
    "cap_factors.index = list(mod.keys())\n",
    "display(cap_factors)"
   ]
  },
  {
   "cell_type": "code",
   "execution_count": null,
   "id": "drawn-commodity",
   "metadata": {},
   "outputs": [],
   "source": [
    "# calculate prices ???\n",
    "import IPython; IPython.embed()"
   ]
  },
  {
   "cell_type": "code",
   "execution_count": null,
   "id": "systematic-italic",
   "metadata": {},
   "outputs": [],
   "source": [
    "# memory clearing\n",
    "del mod"
   ]
  }
 ],
 "metadata": {
  "language_info": {
   "name": "python",
   "pygments_lexer": "ipython3"
  }
 },
 "nbformat": 4,
 "nbformat_minor": 5
}
