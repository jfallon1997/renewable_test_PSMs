{
 "cells": [
  {
   "cell_type": "markdown",
   "id": "dress-looking",
   "metadata": {},
   "source": [
    "# Small consumer 2-zone test\n",
    "\n",
    "Using generated price timeseres, assume that national grid system is beyond consumer's control.\n",
    "\n",
    "What we then need to do is to introduce a second zone (or “bus”) representing consumer’s assets\n",
    "\n",
    "1. Establish a second “zone” with a single connector between it and the first zone.\n",
    "2. The second zone should contain consumer’s:\n",
    "   a. demand for power ... using `outputs_plan_national-grid/???.csv`, rescale National Grid mean & std. to 1%, and use to generate a random timeseries of sorm form\n",
    "   b. diesel generators ... (for now) set the *capacity* of these generators to be effectively infinite, but the consumption cost to be *very high* (say 2-3 times that of the peaking plant in the national grid zone but not as high as unmet demand).  \n",
    "3. The connector between the “zones” should be:\n",
    "   a. Effectively infinite in capacity when taking power from the national grid zone to the consumer zone\n",
    "   b. Zero cost per unit of power transferred\n",
    "   c. Unidirectional (only takes power from Nat Grid to consumer, not vice versa). see https://calliope.readthedocs.io/en/stable/user/advanced_constraints.html#one-way-transmission-links\n",
    "\n",
    "Big picture: larger zone (National Grid) sets its own prices based on national demand/wind etc. The smaller zone is always able to meet it’s own internal demand if it chooses to (diesel capacity is very large) but would usually *prefer* to take power from national grid rather than use it’s own diesel generators. No power export from consumer to grid.\n",
    "\n",
    "Further work:\n",
    "\n",
    "* Shrink national grid generation capacities (introduce shortages), observe impact on consumer zone.\n",
    "* Look at swapping diesel generators to a *storage* generator(s)."
   ]
  },
  {
   "cell_type": "code",
   "execution_count": null,
   "id": "civil-abortion",
   "metadata": {},
   "outputs": [],
   "source": [
    "# Suppress minor warnings\n",
    "import warnings\n",
    "warnings.filterwarnings('ignore')"
   ]
  },
  {
   "cell_type": "code",
   "execution_count": null,
   "id": "confused-faculty",
   "metadata": {},
   "outputs": [],
   "source": [
    "import calliope\n",
    "import models\n",
    "import pandas as pd\n",
    "import numpy as np\n",
    "import matplotlib.pyplot as plt"
   ]
  },
  {
   "cell_type": "markdown",
   "id": "preceding-collect",
   "metadata": {},
   "source": [
    "### Read in National grid planning output (full 1980-2017)\n",
    "\n",
    "From timeseries calculate mean and standard deviation of demand.\n",
    "Change back from negative convention (calliope) to positive demand convention (readable)"
   ]
  },
  {
   "cell_type": "code",
   "execution_count": null,
   "id": "varied-dating",
   "metadata": {},
   "outputs": [],
   "source": [
    "# read csv\n",
    "df = pd.read_csv('outputs_plan_national-grid/inputs_resource.csv',\n",
    "                 usecols=['timesteps', 'resource', 'techs'], index_col='timesteps')\n",
    "# split demand / wind /solar into 3 separate columns\n",
    "national_demand_index = pd.to_datetime(df[df['techs'] == 'demand_power'].index)\n",
    "national_demand = pd.DataFrame(dict(), index=national_demand_index)\n",
    "national_demand['demand'] = - df[df['techs'] == 'demand_power']['resource']\n",
    "national_demand['wind'] = df[df['techs'] == 'wind']['resource']\n",
    "national_demand['solar'] = df[df['techs'] == 'solar']['resource']\n",
    "del df"
   ]
  },
  {
   "cell_type": "code",
   "execution_count": null,
   "id": "silver-probe",
   "metadata": {},
   "outputs": [],
   "source": [
    "national_demand_stats = mean, std = [stat(national_demand.demand) for stat in [np.mean, np.std]]"
   ]
  },
  {
   "cell_type": "markdown",
   "id": "intelligent-mixture",
   "metadata": {},
   "source": [
    "### Generate a random timeseries \n",
    "form with similar overall mean/stddev to UK wide demand (scaled to 1%), ensure no negative values"
   ]
  },
  {
   "cell_type": "code",
   "execution_count": null,
   "id": "median-hindu",
   "metadata": {},
   "outputs": [],
   "source": [
    "# ensure always using the same seed (which we obtained one-off using RNG)\n",
    "np.random.seed(285183912)\n",
    "\n",
    "# normal distribution parameters = 1% National Grid mean/std dev.\n",
    "normal_dist = [stat*0.01 for stat in national_demand_stats]\n",
    "\n",
    "# Sample from normal distribution\n",
    "demand_region2 = np.random.normal(*normal_dist, len(national_demand))\n",
    "\n",
    "# Force positives (very minute chance of this occuring...)\n",
    "demand_region2[demand_region2 < 0] = 0"
   ]
  },
  {
   "cell_type": "code",
   "execution_count": null,
   "id": "medical-columbia",
   "metadata": {},
   "outputs": [],
   "source": [
    "demand_region2"
   ]
  },
  {
   "cell_type": "markdown",
   "id": "adult-ability",
   "metadata": {},
   "source": [
    "### Load secondary zone demand into a DataFrame\n",
    "Allows easy loading into ts_data"
   ]
  },
  {
   "cell_type": "code",
   "execution_count": null,
   "id": "impressive-january",
   "metadata": {},
   "outputs": [],
   "source": [
    "df_region2 = pd.DataFrame({'demand_region2': demand_region2},\n",
    "                          index=pd.to_datetime(national_demand.index))"
   ]
  },
  {
   "cell_type": "markdown",
   "id": "bibliographic-lebanon",
   "metadata": {},
   "source": [
    "# `operational` Calliope 2-zone model (with infinite diesel cap)\n",
    "\n",
    "Note: can shrink operational range to subset, eg. 2017 year only"
   ]
  },
  {
   "cell_type": "code",
   "execution_count": null,
   "id": "direct-aviation",
   "metadata": {},
   "outputs": [],
   "source": [
    "date_start, date_end = '2017', '2017'"
   ]
  },
  {
   "cell_type": "code",
   "execution_count": null,
   "id": "fourth-whole",
   "metadata": {},
   "outputs": [],
   "source": [
    "# Import timeseries data demand / wind (as in 1_region)\n",
    "ts_data = models.load_time_series_data('2_region', additional_data=df_region2)\n",
    "\n",
    "# Crop to date range\n",
    "ts_data = ts_data.loc[date_start:date_end]\n",
    "\n",
    "display(ts_data.head(6))"
   ]
  },
  {
   "cell_type": "code",
   "execution_count": null,
   "id": "liquid-relative",
   "metadata": {},
   "outputs": [],
   "source": [
    "# Read in generation capacities\n",
    "generation_capacities_planned = pd.read_csv('outputs_plan_national-grid/results_energy_cap.csv')\n",
    "\n",
    "# Rename techs\n",
    "generation_capacities = dict()\n",
    "for tech, cap in zip(generation_capacities_planned['techs'],\n",
    "                     generation_capacities_planned['energy_cap']):\n",
    "    if tech not in ['unmet', 'demand_power']:\n",
    "        key = f'cap_{tech}_region1'\n",
    "        generation_capacities[key] = cap\n",
    "\n",
    "# Insert diesel generators, transmission capacity = max possible region2 demand\n",
    "generation_capacities['cap_generators_region2'] = max(ts_data['demand_region2'])\n",
    "generation_capacities['cap_transmission_region1_region2'] = max(ts_data['demand_region2'])\n",
    "\n",
    "\n",
    "# Display\n",
    "display(generation_capacities)"
   ]
  },
  {
   "cell_type": "code",
   "execution_count": null,
   "id": "compliant-criterion",
   "metadata": {},
   "outputs": [],
   "source": [
    "# Create the model with fixed capacities\n",
    "model = models.TwoRegionModel(ts_data, 'operate', fixed_caps=generation_capacities)\n",
    "display(model.preview('inputs.resource'))"
   ]
  },
  {
   "cell_type": "code",
   "execution_count": null,
   "id": "wrapped-trinity",
   "metadata": {},
   "outputs": [],
   "source": [
    "model.run()\n",
    "model.get_summary_outputs()"
   ]
  },
  {
   "cell_type": "code",
   "execution_count": null,
   "id": "prescribed-sperm",
   "metadata": {},
   "outputs": [],
   "source": [
    "def cap_mean_plot(model, subtitle: str=None, fname: str=None):\n",
    "    # Extract mean capacity factors from model\n",
    "    CF = dict(zip(model.results.capacity_factor.loc_tech_carriers_prod.values,\n",
    "                  np.mean(model.results.capacity_factor.values, axis=1)))\n",
    "\n",
    "    # setup figure axs and title\n",
    "    fig, axs = plt.subplots(3, 3, figsize=(12,9))\n",
    "    title = 'Capacity Factor Means'\n",
    "    if subtitle:\n",
    "        title += '\\n' + subtitle\n",
    "    fig.suptitle(title)\n",
    "    \n",
    "    # pie chart for each tech\n",
    "    axs_idx = 0\n",
    "    for tech, cap in CF.items():\n",
    "        axs_pos = (axs_idx%3, axs_idx//3)\n",
    "        label = tech[:-7].replace('::','\\n').replace('transmission_', 'transmission\\n').replace(':region1','')\n",
    "        label += f'\\n{cap:.3f}'\n",
    "        axs[axs_pos].pie([cap, 1-cap], labels=[label,None])\n",
    "        axs_idx += 1\n",
    "\n",
    "    # plot legend\n",
    "    fig.subplots_adjust(top=0.95, bottom=0.05, right=0.95, left=0.05, hspace=0.01, wspace=0.15)\n",
    "    axs[-1, -1].pie([0,0], labels=[r'$\\mu$', r'1-$\\mu$'])\n",
    "    plt.legend()\n",
    "\n",
    "    # save plot\n",
    "    if fname:\n",
    "        plt.savefig('plots/'+fname, dpi=300)\n",
    "\n",
    "cap_mean_plot(model)"
   ]
  },
  {
   "cell_type": "code",
   "execution_count": null,
   "id": "bearing-conditions",
   "metadata": {},
   "outputs": [],
   "source": [
    "# Export all model outputs to CSV (creates directory called 'outputs_operate')\n",
    "output_folder = 'outputs_operational_two-zone'\n",
    "models.rm_folder(output_folder)\n",
    "model.to_csv(output_folder)"
   ]
  },
  {
   "cell_type": "code",
   "execution_count": null,
   "id": "opposed-convert",
   "metadata": {},
   "outputs": [],
   "source": [
    "# Generate HTML plots\n",
    "for var in ['power', 'cost_var', 'resource']:\n",
    "    plot_html = model.plot.timeseries(array=var, html_only=True)\n",
    "    models.save_html(plot_html, f'plots/operate_2_{var}.html', f'{var} plot')"
   ]
  },
  {
   "cell_type": "code",
   "execution_count": null,
   "id": "raising-example",
   "metadata": {},
   "outputs": [],
   "source": [
    "model.preview('results.systemwide_capacity_factor', loc='carriers', time_idx=False,\n",
    "              index=model.results.systemwide_capacity_factor.techs.values)"
   ]
  },
  {
   "cell_type": "markdown",
   "id": "african-inquiry",
   "metadata": {},
   "source": [
    "### Adjust Generators Operating cost\n",
    "\n",
    "Trial different operating costs, and get the capacity factor"
   ]
  },
  {
   "cell_type": "code",
   "execution_count": null,
   "id": "nominated-rally",
   "metadata": {},
   "outputs": [],
   "source": [
    "# Create the model with fixed capacities\n",
    "# change the generator operating cost\n",
    "mod = dict()\n",
    "\n",
    "# sub baseload cost\n",
    "print('generators om_con < baseload om_con')\n",
    "mod['sb'] = models.TwoRegionModel(ts_data, 'operate', fixed_caps=generation_capacities, extra_override='generator_cost_sb')\n",
    "# sub peaking cost\n",
    "print('generators om_con < peaking om_con')\n",
    "mod['sp'] = models.TwoRegionModel(ts_data, 'operate', fixed_caps=generation_capacities, extra_override='generator_cost_sp')\n",
    "# sub unmet cost\n",
    "print('generators om_con < unmet om_con')\n",
    "mod['su'] = models.TwoRegionModel(ts_data, 'operate', fixed_caps=generation_capacities, extra_override='generator_cost_su')\n",
    "\n",
    "for name, model in mod.items():\n",
    "    print(f'running {name} model')\n",
    "    model.run()"
   ]
  },
  {
   "cell_type": "code",
   "execution_count": null,
   "id": "failing-paper",
   "metadata": {},
   "outputs": [],
   "source": [
    "# Print out capacity factors\n",
    "model_example = list(mod.values())[0]\n",
    "columns = [s.split('::')[1] for s in model_example.results.capacity_factor.loc_tech_carriers_prod.values]\n",
    "cap_factors = pd.DataFrame(columns=columns)\n",
    "\n",
    "for name, model in mod.items():\n",
    "    cap_factors = cap_factors.append(dict(zip(columns, np.mean(model.results.capacity_factor.values, axis=0))), ignore_index=True)\n",
    "\n",
    "print('Capacity factors under each scenario:')\n",
    "cap_factors.index = list(mod.keys())\n",
    "display(cap_factors)"
   ]
  },
  {
   "cell_type": "code",
   "execution_count": null,
   "id": "strong-stake",
   "metadata": {},
   "outputs": [],
   "source": [
    "# calculate prices ???"
   ]
  },
  {
   "cell_type": "code",
   "execution_count": null,
   "id": "contained-needle",
   "metadata": {},
   "outputs": [],
   "source": [
    "# memory clearing\n",
    "del mod"
   ]
  },
  {
   "cell_type": "markdown",
   "id": "hollow-plant",
   "metadata": {},
   "source": [
    "### Induce National Grid Shortages\n",
    "\n",
    "With the original `om_con=0.1` for generators, trial a range of reduced capacity national grid operation"
   ]
  },
  {
   "cell_type": "code",
   "execution_count": null,
   "id": "celtic-philip",
   "metadata": {},
   "outputs": [],
   "source": [
    "# Create the model with fixed capacities\n",
    "# change the baseload and peaking capacities\n",
    "mod = dict()\n",
    "\n",
    "# shortcut for baseload and peaking capacities\n",
    "baseload = generation_capacities['cap_baseload_region1']\n",
    "peaking = generation_capacities['cap_peaking_region1']\n",
    "\n",
    "# model default \n",
    "mod['0'] = models.TwoRegionModel(ts_data, 'operate', fixed_caps=generation_capacities)\n",
    "\n",
    "# reduced X by 10% or 20%\n",
    "mod['a'] = models.TwoRegionModel(ts_data, 'operate', fixed_caps=dict(generation_capacities, cap_baseload_region1=baseload*.90))\n",
    "mod['b'] = models.TwoRegionModel(ts_data, 'operate', fixed_caps=dict(generation_capacities, cap_peaking_region1=peaking*.90))\n",
    "mod['c'] = models.TwoRegionModel(ts_data, 'operate', fixed_caps=dict(generation_capacities, cap_baseload_region1=baseload*.80))\n",
    "mod['d'] = models.TwoRegionModel(ts_data, 'operate', fixed_caps=dict(generation_capacities, cap_peaking_region1=peaking*.80))\n",
    "# reduced ALL capacities by 4% or 8%\n",
    "caps = {tech: val if 'region2' in tech else val*.90 for tech, val in generation_capacities.items()}\n",
    "mod['e'] = models.TwoRegionModel(ts_data, 'operate', fixed_caps=caps)\n",
    "caps = {tech: val if 'region2' in tech else val*.80 for tech, val in generation_capacities.items()}\n",
    "mod['f'] = models.TwoRegionModel(ts_data, 'operate', fixed_caps=caps)\n",
    "\n",
    "for name, model in mod.items():\n",
    "    print(f'running {name} model')\n",
    "    model.run()"
   ]
  },
  {
   "cell_type": "code",
   "execution_count": null,
   "id": "charged-links",
   "metadata": {},
   "outputs": [],
   "source": [
    "# Print out capacity factors\n",
    "model_example = list(mod.values())[0]\n",
    "columns = [s.split('::')[1] for s in model_example.results.capacity_factor.loc_tech_carriers_prod.values]\n",
    "cap_factors = pd.DataFrame(columns=columns)\n",
    "\n",
    "for name, model in mod.items():\n",
    "    cap_factors = cap_factors.append(dict(zip(columns, np.mean(model.results.capacity_factor.values, axis=0))), ignore_index=True)\n",
    "\n",
    "print('Capacity factors under each scenario:')\n",
    "cap_factors.index = list(mod.keys())\n",
    "display(cap_factors)"
   ]
  },
  {
   "cell_type": "code",
   "execution_count": null,
   "id": "honey-tablet",
   "metadata": {},
   "outputs": [],
   "source": [
    "# Calculate zone 2 prices (NG price * transmission CF + Diesel price * generators CF)\n",
    "\n",
    "# National Grid Price Timeseries (select price of most expensive online tech)\n",
    "# First order techs by carrier consumption cost (GBP m per GWh)\n",
    "om_con_zip = zip(model_example.inputs.cost_om_con.values[0],\n",
    "                 model_example.inputs.cost_om_con.loc_techs_om_cost.values)\n",
    "om_con_techs = sorted((om_con, tech) for om_con, tech in om_con_zip)\n",
    "# When online, select price of next most expensive tech\n",
    "prices = dict()\n",
    "for key, model in mod.items():\n",
    "    price = np.zeros_like(model.inputs.timesteps, dtype=np.float64)\n",
    "    cost_var_techs = list(model.results.cost_var.loc_techs_om_cost.values)\n",
    "    for om_con, tech in om_con_techs:\n",
    "        # Select tech's cost_var\n",
    "        cost_var_idx = cost_var_techs.index(tech)\n",
    "        cost_var = model.results.cost_var.values[0, cost_var_idx]\n",
    "        # Indexes when online at non-zero cost\n",
    "        online = np.nonzero(cost_var)\n",
    "        # Reset price when online\n",
    "        price[online] = float(om_con)\n",
    "    # Save price to dict\n",
    "    prices[key] = price\n",
    "\n",
    "# Diesel prices\n",
    "# (unless specified, should be the same in all cases, do loop anyway incase set otherwise)\n",
    "generator_prices = dict()\n",
    "for key, model in mod.items():\n",
    "    cost_var_techs = list(model.inputs.cost_om_con.loc_techs_om_cost)\n",
    "    generators_idx = cost_var_techs.index('region2::generators_region2')\n",
    "    generator_prices[key] = np.asscalar(model.inputs.cost_om_con[0, generators_idx].values)\n",
    "    \n",
    "# National Grid resources (region 2 import) and Generators region 2 consumption\n",
    "grid_res, gen_res = dict(), dict()\n",
    "for key, model in mod.items():\n",
    "    grid_res[key] = -1 * model.results.carrier_con.loc['region1::transmission_region1_region2:region2::power'].values\n",
    "    gen_res[key] = +1 * model.results.carrier_prod.loc['region2::generators_region2::power'].values\n",
    "    \n",
    "\n",
    "# Combine with CF to get consumption cost\n",
    "con_cost = dict()\n",
    "for key, model in mod.items():\n",
    "    # NG cost (variable cost * resource timeseries)\n",
    "    grid_con_cost = prices[key] * grid_res[key]\n",
    "    # generation cost (fixed cost * resource timeseries)\n",
    "    generators_con_cost = generator_prices[key] * gen_res[key]\n",
    "    # combined consumption cost\n",
    "    con_cost[key] = grid_con_cost + generators_con_cost\n",
    "\n",
    "# Total costs\n",
    "con_cost_tot = {key: np.sum(val) for key, val in con_cost.items()}"
   ]
  },
  {
   "cell_type": "code",
   "execution_count": null,
   "id": "absent-husband",
   "metadata": {},
   "outputs": [],
   "source": [
    "import IPython; IPython.embed()"
   ]
  },
  {
   "cell_type": "code",
   "execution_count": null,
   "id": "temporal-honolulu",
   "metadata": {},
   "outputs": [],
   "source": [
    "# memory clearing\n",
    "del mod"
   ]
  }
 ],
 "metadata": {
  "language_info": {
   "name": "python",
   "pygments_lexer": "ipython3"
  }
 },
 "nbformat": 4,
 "nbformat_minor": 5
}
